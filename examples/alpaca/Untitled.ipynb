{
 "cells": [
  {
   "cell_type": "code",
   "execution_count": 4,
   "metadata": {},
   "outputs": [
    {
     "name": "stdout",
     "output_type": "stream",
     "text": [
      "{'output':                                                        close\n",
      "Equity(b0b6dd9d-8b9b-48a9-ba46-b9d54906e415 [AA...   331.540\n",
      "Equity(f801f835-bfe6-4a9d-a6b1-ccbb84bfd75f [AM...  2481.415\n",
      "Equity(2d9e926c-e17c-47c3-ad8c-26c7a594e48f [QQQ])   239.600\n",
      "Equity(b28f4066-5c6d-479b-a2af-85dc1a8f16fb [SPY])   319.270\n",
      "Equity(8ccae427-5dd0-45b3-b5fe-7ba5e422c766 [TS...   885.335, '_portfolio': Portfolio({'capital_used': 0.0, 'starting_cash': 0.0, 'portfolio_value': 99869.98, 'pnl': 0.0, 'returns': 0.0, 'cash': 99869.98, 'positions': {}, 'start_date': None, 'positions_value': 0.0}), 'datetime': Timestamp('2020-06-08 14:19:00+0000', tz='UTC'), 'portfolio_needs_update': True, '__state_checksum': 'algo'}\n"
     ]
    }
   ],
   "source": [
    "import pandas\n",
    "\n",
    "df = pandas.read_pickle(\"algo-state.pkl\")\n",
    "print(df)"
   ]
  },
  {
   "cell_type": "code",
   "execution_count": 9,
   "metadata": {},
   "outputs": [
    {
     "data": {
      "text/plain": [
       "dict_keys(['output', '_portfolio', 'datetime', 'portfolio_needs_update', '__state_checksum'])"
      ]
     },
     "execution_count": 9,
     "metadata": {},
     "output_type": "execute_result"
    }
   ],
   "source": [
    "df.keys()"
   ]
  },
  {
   "cell_type": "code",
   "execution_count": 10,
   "metadata": {},
   "outputs": [
    {
     "ename": "KeyError",
     "evalue": "0",
     "output_type": "error",
     "traceback": [
      "\u001b[0;31m---------------------------------------------------------------------------\u001b[0m",
      "\u001b[0;31mKeyError\u001b[0m                                  Traceback (most recent call last)",
      "\u001b[0;32m<ipython-input-10-ad11118bc8f3>\u001b[0m in \u001b[0;36m<module>\u001b[0;34m\u001b[0m\n\u001b[0;32m----> 1\u001b[0;31m \u001b[0mdf\u001b[0m\u001b[0;34m[\u001b[0m\u001b[0;36m0\u001b[0m\u001b[0;34m]\u001b[0m\u001b[0;34m\u001b[0m\u001b[0;34m\u001b[0m\u001b[0m\n\u001b[0m",
      "\u001b[0;31mKeyError\u001b[0m: 0"
     ]
    }
   ],
   "source": [
    "df[0]"
   ]
  },
  {
   "cell_type": "code",
   "execution_count": 16,
   "metadata": {},
   "outputs": [
    {
     "data": {
      "text/plain": [
       "['output',\n",
       " '_portfolio',\n",
       " 'datetime',\n",
       " 'portfolio_needs_update',\n",
       " '__state_checksum']"
      ]
     },
     "execution_count": 16,
     "metadata": {},
     "output_type": "execute_result"
    }
   ],
   "source": [
    "keysArray = [x for x in df.keys()]\n"
   ]
  },
  {
   "cell_type": "code",
   "execution_count": 17,
   "metadata": {},
   "outputs": [
    {
     "data": {
      "text/html": [
       "<div>\n",
       "<style scoped>\n",
       "    .dataframe tbody tr th:only-of-type {\n",
       "        vertical-align: middle;\n",
       "    }\n",
       "\n",
       "    .dataframe tbody tr th {\n",
       "        vertical-align: top;\n",
       "    }\n",
       "\n",
       "    .dataframe thead th {\n",
       "        text-align: right;\n",
       "    }\n",
       "</style>\n",
       "<table border=\"1\" class=\"dataframe\">\n",
       "  <thead>\n",
       "    <tr style=\"text-align: right;\">\n",
       "      <th></th>\n",
       "      <th>close</th>\n",
       "    </tr>\n",
       "  </thead>\n",
       "  <tbody>\n",
       "    <tr>\n",
       "      <th>Equity(b0b6dd9d-8b9b-48a9-ba46-b9d54906e415 [AAPL])</th>\n",
       "      <td>331.540</td>\n",
       "    </tr>\n",
       "    <tr>\n",
       "      <th>Equity(f801f835-bfe6-4a9d-a6b1-ccbb84bfd75f [AMZN])</th>\n",
       "      <td>2481.415</td>\n",
       "    </tr>\n",
       "    <tr>\n",
       "      <th>Equity(2d9e926c-e17c-47c3-ad8c-26c7a594e48f [QQQ])</th>\n",
       "      <td>239.600</td>\n",
       "    </tr>\n",
       "    <tr>\n",
       "      <th>Equity(b28f4066-5c6d-479b-a2af-85dc1a8f16fb [SPY])</th>\n",
       "      <td>319.270</td>\n",
       "    </tr>\n",
       "    <tr>\n",
       "      <th>Equity(8ccae427-5dd0-45b3-b5fe-7ba5e422c766 [TSLA])</th>\n",
       "      <td>885.335</td>\n",
       "    </tr>\n",
       "  </tbody>\n",
       "</table>\n",
       "</div>"
      ],
      "text/plain": [
       "                                                       close\n",
       "Equity(b0b6dd9d-8b9b-48a9-ba46-b9d54906e415 [AA...   331.540\n",
       "Equity(f801f835-bfe6-4a9d-a6b1-ccbb84bfd75f [AM...  2481.415\n",
       "Equity(2d9e926c-e17c-47c3-ad8c-26c7a594e48f [QQQ])   239.600\n",
       "Equity(b28f4066-5c6d-479b-a2af-85dc1a8f16fb [SPY])   319.270\n",
       "Equity(8ccae427-5dd0-45b3-b5fe-7ba5e422c766 [TS...   885.335"
      ]
     },
     "execution_count": 17,
     "metadata": {},
     "output_type": "execute_result"
    }
   ],
   "source": [
    "df[keysArray[0]]"
   ]
  },
  {
   "cell_type": "code",
   "execution_count": 18,
   "metadata": {},
   "outputs": [
    {
     "data": {
      "text/plain": [
       "Portfolio({'capital_used': 0.0, 'starting_cash': 0.0, 'portfolio_value': 99869.98, 'pnl': 0.0, 'returns': 0.0, 'cash': 99869.98, 'positions': {}, 'start_date': None, 'positions_value': 0.0})"
      ]
     },
     "execution_count": 18,
     "metadata": {},
     "output_type": "execute_result"
    }
   ],
   "source": [
    "df[keysArray[1]]"
   ]
  },
  {
   "cell_type": "code",
   "execution_count": 19,
   "metadata": {},
   "outputs": [
    {
     "data": {
      "text/plain": [
       "Timestamp('2020-06-08 14:19:00+0000', tz='UTC')"
      ]
     },
     "execution_count": 19,
     "metadata": {},
     "output_type": "execute_result"
    }
   ],
   "source": [
    "df[keysArray[2]]"
   ]
  },
  {
   "cell_type": "code",
   "execution_count": 20,
   "metadata": {},
   "outputs": [
    {
     "data": {
      "text/plain": [
       "True"
      ]
     },
     "execution_count": 20,
     "metadata": {},
     "output_type": "execute_result"
    }
   ],
   "source": [
    "df[keysArray[3]]"
   ]
  },
  {
   "cell_type": "code",
   "execution_count": 21,
   "metadata": {},
   "outputs": [
    {
     "data": {
      "text/plain": [
       "'algo'"
      ]
     },
     "execution_count": 21,
     "metadata": {},
     "output_type": "execute_result"
    }
   ],
   "source": [
    "df[keysArray[4]]"
   ]
  },
  {
   "cell_type": "code",
   "execution_count": null,
   "metadata": {},
   "outputs": [],
   "source": []
  }
 ],
 "metadata": {
  "kernelspec": {
   "display_name": "AlgoTradingKernel",
   "language": "python",
   "name": "algotradingkernel"
  },
  "language_info": {
   "codemirror_mode": {
    "name": "ipython",
    "version": 3
   },
   "file_extension": ".py",
   "mimetype": "text/x-python",
   "name": "python",
   "nbconvert_exporter": "python",
   "pygments_lexer": "ipython3",
   "version": "3.6.10"
  }
 },
 "nbformat": 4,
 "nbformat_minor": 4
}
